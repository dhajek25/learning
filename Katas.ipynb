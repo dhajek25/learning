{
 "cells": [
  {
   "cell_type": "code",
   "execution_count": 2,
   "metadata": {},
   "outputs": [],
   "source": [
    "import pandas as pd\n",
    "import numpy as np"
   ]
  },
  {
   "cell_type": "markdown",
   "metadata": {},
   "source": [
    "## Kata 1 <br>\n",
    "In this kata you will create a function that takes a list of non-negative integers and strings and returns a new list with the strings filtered out. <br>\n",
    "filter_list([1,2,'a','b']) == [1,2]"
   ]
  },
  {
   "cell_type": "code",
   "execution_count": 2,
   "metadata": {},
   "outputs": [
    {
     "data": {
      "text/plain": [
       "[1, 'a', 'b', 0, 15]"
      ]
     },
     "execution_count": 2,
     "metadata": {},
     "output_type": "execute_result"
    }
   ],
   "source": [
    "l = ([1,'a','b',0,15])\n",
    "l"
   ]
  },
  {
   "cell_type": "code",
   "execution_count": 3,
   "metadata": {},
   "outputs": [],
   "source": [
    "def filter_list(l):\n",
    "    empty_l = []\n",
    "    for e in l:\n",
    "        if type(e) == int:\n",
    "            empty_l.append(e)\n",
    "    return empty_l     "
   ]
  },
  {
   "cell_type": "code",
   "execution_count": 4,
   "metadata": {},
   "outputs": [
    {
     "data": {
      "text/plain": [
       "[1, 0, 15]"
      ]
     },
     "execution_count": 4,
     "metadata": {},
     "output_type": "execute_result"
    }
   ],
   "source": [
    "filter_list(l)"
   ]
  },
  {
   "cell_type": "code",
   "execution_count": 5,
   "metadata": {},
   "outputs": [],
   "source": [
    "def filter_list(l):\n",
    "    return [e for e in l if type(e)==int]"
   ]
  },
  {
   "cell_type": "code",
   "execution_count": 6,
   "metadata": {},
   "outputs": [
    {
     "data": {
      "text/plain": [
       "[1, 0, 15]"
      ]
     },
     "execution_count": 6,
     "metadata": {},
     "output_type": "execute_result"
    }
   ],
   "source": [
    "filter_list(l)"
   ]
  },
  {
   "cell_type": "markdown",
   "metadata": {},
   "source": [
    "***"
   ]
  },
  {
   "cell_type": "markdown",
   "metadata": {},
   "source": [
    "## Lists of the lists"
   ]
  },
  {
   "cell_type": "code",
   "execution_count": 7,
   "metadata": {},
   "outputs": [],
   "source": [
    "l = ([\"AAAa\",'a','b',[\"bb\", \"RRT\"], \"erTTl\"])"
   ]
  },
  {
   "cell_type": "code",
   "execution_count": 8,
   "metadata": {},
   "outputs": [
    {
     "data": {
      "text/plain": [
       "['AAAa', 'a', 'b', ['bb', 'RRT'], 'erTTl']"
      ]
     },
     "execution_count": 8,
     "metadata": {},
     "output_type": "execute_result"
    }
   ],
   "source": [
    "l"
   ]
  },
  {
   "cell_type": "code",
   "execution_count": 9,
   "metadata": {},
   "outputs": [
    {
     "data": {
      "text/plain": [
       "['AAAa', 'a', 'b', 'bb', 'RRT', 'erTTl']"
      ]
     },
     "execution_count": 9,
     "metadata": {},
     "output_type": "execute_result"
    }
   ],
   "source": [
    "def funkce1(l):\n",
    "    empty_l = []\n",
    "    for e in l:\n",
    "        t = type(e)\n",
    "        if t is tuple or t is list:\n",
    "            for i in funkce1(e):\n",
    "                empty_l.append(i)\n",
    "        else:\n",
    "            empty_l.append(e)\n",
    "    return empty_l\n",
    "funkce1(l)"
   ]
  },
  {
   "cell_type": "markdown",
   "metadata": {},
   "source": [
    "***"
   ]
  },
  {
   "cell_type": "markdown",
   "metadata": {},
   "source": [
    "## Kata 2 <br>\n",
    "Write a function that will return the count of distinct case-insensitive alphabetic characters and numeric digits that occur more than once in the input string. The input string can be assumed to contain only alphabets (both uppercase and lowercase) and numeric digits. <br>\n",
    "\"abcde\" -> 0 # no characters repeats more than once <br>\n",
    "\"aabBcde\" -> 2 # 'a' occurs twice and 'b' twice (`b` and `B`) <br>\n",
    "\"aA11\" -> 2 # 'a' and '1' <br>"
   ]
  },
  {
   "cell_type": "code",
   "execution_count": 10,
   "metadata": {},
   "outputs": [
    {
     "name": "stdout",
     "output_type": "stream",
     "text": [
      "aabBcde22\n"
     ]
    },
    {
     "data": {
      "text/plain": [
       "3"
      ]
     },
     "execution_count": 10,
     "metadata": {},
     "output_type": "execute_result"
    }
   ],
   "source": [
    "string = \"aabBcde22\" \n",
    "print(string)\n",
    "\n",
    "def duplicate_count(text):\n",
    "    all_freq = {}\n",
    "    number = 0\n",
    "    for i in text.lower():\n",
    "        if i in all_freq:\n",
    "            all_freq[i] += 1\n",
    "        else:\n",
    "            all_freq[i] = 1\n",
    "    for e in all_freq.values():\n",
    "        if e > 1:\n",
    "            number += 1\n",
    "    return number\n",
    "\n",
    "duplicate_count(string)"
   ]
  },
  {
   "cell_type": "code",
   "execution_count": 11,
   "metadata": {},
   "outputs": [
    {
     "data": {
      "text/plain": [
       "3"
      ]
     },
     "execution_count": 11,
     "metadata": {},
     "output_type": "execute_result"
    }
   ],
   "source": [
    "def duplicate_count(s):\n",
    "    return len([c for c in set(s.lower()) if s.lower().count(c)>1])\n",
    "duplicate_count(string)"
   ]
  },
  {
   "cell_type": "markdown",
   "metadata": {},
   "source": [
    "## Kata 3 <br>\n",
    "Your task is to write a function that takes a string and return a new string with all vowels removed.\n",
    "\n",
    "For example, the string \"This website is for losers LOL!\" would become \"Ths wbst s fr lsrs LL!\".\n",
    "Note: for this kata y isn't considered a vowel."
   ]
  },
  {
   "cell_type": "code",
   "execution_count": 39,
   "metadata": {},
   "outputs": [],
   "source": [
    "string_ = \"This website is for losers LOL!\""
   ]
  },
  {
   "cell_type": "code",
   "execution_count": 40,
   "metadata": {},
   "outputs": [],
   "source": [
    "vowels = ('a', 'e', 'i', 'o', 'u', 'A', 'E', 'I', 'O', 'U')\n",
    "def disemvowel(string_):\n",
    "    for e in string_:\n",
    "        if e in vowels:\n",
    "            string_ = string_.replace(e, \"\")\n",
    "    return string_   "
   ]
  },
  {
   "cell_type": "code",
   "execution_count": 41,
   "metadata": {},
   "outputs": [
    {
     "data": {
      "text/plain": [
       "'Ths wbst s fr lsrs LL!'"
      ]
     },
     "execution_count": 41,
     "metadata": {},
     "output_type": "execute_result"
    }
   ],
   "source": [
    "disemvowel(string_)"
   ]
  },
  {
   "cell_type": "markdown",
   "metadata": {},
   "source": [
    "The join() string method returns a string by joining all the elements of an iterable (list, string, tuple), separated by a string separator."
   ]
  },
  {
   "cell_type": "code",
   "execution_count": 43,
   "metadata": {},
   "outputs": [],
   "source": [
    "def disemvowel(string_):\n",
    "    return \"\".join(c for c in string_ if c.lower() not in \"aeiou\")"
   ]
  },
  {
   "cell_type": "code",
   "execution_count": 44,
   "metadata": {},
   "outputs": [
    {
     "data": {
      "text/plain": [
       "'Ths wbst s fr lsrs LL!'"
      ]
     },
     "execution_count": 44,
     "metadata": {},
     "output_type": "execute_result"
    }
   ],
   "source": [
    "disemvowel(string_)"
   ]
  },
  {
   "cell_type": "code",
   "execution_count": 48,
   "metadata": {},
   "outputs": [
    {
     "name": "stdout",
     "output_type": "stream",
     "text": [
      "Python is a fun programming language\n"
     ]
    }
   ],
   "source": [
    "text = ['Python', 'is', 'a', 'fun', 'programming', 'language']\n",
    "\n",
    "# join elements of text with space\n",
    "print(' '.join(text))"
   ]
  },
  {
   "cell_type": "markdown",
   "metadata": {},
   "source": [
    "## Kata 4 <br>\n",
    "Implement the function unique_in_order which takes as argument a sequence and returns a list of items without any elements with the same value next to each other and preserving the original order of elements.\n",
    "\n",
    "unique_in_order('AAAABBBCCDAABBB') == ['A', 'B', 'C', 'D', 'A', 'B']"
   ]
  },
  {
   "cell_type": "code",
   "execution_count": 162,
   "metadata": {},
   "outputs": [],
   "source": [
    "tuple_ = (1,2,'a','a','a',3,3,'b','b')"
   ]
  },
  {
   "cell_type": "code",
   "execution_count": 163,
   "metadata": {},
   "outputs": [],
   "source": [
    "def unique_in_order(iterable):\n",
    "    lst = [\"\"]\n",
    "    iterable = tuple(map(str, iterable))\n",
    "    for e in iterable:\n",
    "        if e not in lst[-1]:\n",
    "            lst.append(e)\n",
    "    lst = lst[1:]\n",
    "    return lst"
   ]
  },
  {
   "cell_type": "code",
   "execution_count": 164,
   "metadata": {},
   "outputs": [
    {
     "data": {
      "text/plain": [
       "['1', '2', 'a', '3', 'b']"
      ]
     },
     "execution_count": 164,
     "metadata": {},
     "output_type": "execute_result"
    }
   ],
   "source": [
    "unique_in_order(tuple_)"
   ]
  },
  {
   "cell_type": "markdown",
   "metadata": {},
   "source": [
    "## Kata 5 <br>\n",
    "\n",
    "Complete the function that accepts a string parameter, and reverses each word in the string. All spaces in the string should be retained.\n",
    "\n",
    "\"This is an example!\" ==> \"sihT si na !elpmaxe\" <br>\n",
    "\"double  spaces\"      ==> \"elbuod  secaps\" <br>\n",
    "\n",
    "Musejí tam být i více než jedna mezera, pokud se vyskytuje."
   ]
  },
  {
   "cell_type": "code",
   "execution_count": 54,
   "metadata": {},
   "outputs": [],
   "source": [
    "text = \"Hello      how are you\""
   ]
  },
  {
   "cell_type": "code",
   "execution_count": 55,
   "metadata": {},
   "outputs": [
    {
     "data": {
      "text/plain": [
       "'olleH      woh era uoy'"
      ]
     },
     "execution_count": 55,
     "metadata": {},
     "output_type": "execute_result"
    }
   ],
   "source": [
    "def reverse_words(text):\n",
    "    empty_lst = []\n",
    "    for e in text.split(\" \"):\n",
    "        empty_lst.append(e[::-1])\n",
    "    new_string = \" \".join(empty_lst)\n",
    "    return new_string\n",
    "\n",
    "reverse_words(text)"
   ]
  },
  {
   "cell_type": "code",
   "execution_count": 62,
   "metadata": {},
   "outputs": [
    {
     "data": {
      "text/plain": [
       "'olleH      woh era uoy'"
      ]
     },
     "execution_count": 62,
     "metadata": {},
     "output_type": "execute_result"
    }
   ],
   "source": [
    "def reverse_words(str):\n",
    "    return ' '.join(s[::-1] for s in str.split(' '))\n",
    "\n",
    "reverse_words(text)"
   ]
  },
  {
   "cell_type": "markdown",
   "metadata": {},
   "source": [
    "### Iterování nad seznamem"
   ]
  },
  {
   "cell_type": "code",
   "execution_count": 64,
   "metadata": {},
   "outputs": [
    {
     "name": "stdout",
     "output_type": "stream",
     "text": [
      "1 Hermiona\n",
      "2 Harry\n",
      "3 Ron\n",
      "4 Ronaldo\n",
      "5 Dumbldor\n",
      "6 Rihanna\n"
     ]
    }
   ],
   "source": [
    "students = [\"Hermiona\", \"Harry\", \"Ron\", \"Ronaldo\", \"Dumbldor\", \"Rihanna\"]\n",
    "\n",
    "for i in range(len(students)):\n",
    "    print(i + 1, students[i])"
   ]
  },
  {
   "cell_type": "markdown",
   "metadata": {},
   "source": [
    "## Kata 6 <br>\n",
    "Your task is to write a function maskify, which changes all but the last four characters into '#'.\n",
    "\n",
    "Examples\n",
    "\"4556364607935616\" --> \"############5616\"\n",
    "     \"64607935616\" -->      \"#######5616\"\n",
    "               \"1\" -->                \"1\"\n",
    "                \"\" -->                 \"\"\n",
    "\n",
    "// \"What was the name of your first pet?\"\n",
    "\n",
    "\"Skippy\" --> \"##ippy\"\n",
    "\n",
    "\"Nananananananananananananananana Batman!\"\n",
    "-->\n",
    "\"####################################man!\""
   ]
  },
  {
   "cell_type": "code",
   "execution_count": 31,
   "metadata": {},
   "outputs": [],
   "source": [
    "s = \"Nananananananananananananananana Batman!\""
   ]
  },
  {
   "cell_type": "code",
   "execution_count": 38,
   "metadata": {},
   "outputs": [
    {
     "data": {
      "text/plain": [
       "'####################################man!'"
      ]
     },
     "execution_count": 38,
     "metadata": {},
     "output_type": "execute_result"
    }
   ],
   "source": [
    "def maskify(s):\n",
    "    l = len(s)\n",
    "    if l <= 4: \n",
    "        return s\n",
    "    return (l - 4) * '#' + s[-4:]\n",
    "\n",
    "maskify(s)"
   ]
  },
  {
   "cell_type": "code",
   "execution_count": 41,
   "metadata": {},
   "outputs": [
    {
     "data": {
      "text/plain": [
       "'####################################man!'"
      ]
     },
     "execution_count": 41,
     "metadata": {},
     "output_type": "execute_result"
    }
   ],
   "source": [
    "def maskify(s):\n",
    "    return \"\".join(['#' for x in s[:-4]]) + s[-4:]\n",
    "\n",
    "maskify(s)"
   ]
  }
 ],
 "metadata": {
  "kernelspec": {
   "display_name": "Python 3",
   "language": "python",
   "name": "python3"
  },
  "language_info": {
   "codemirror_mode": {
    "name": "ipython",
    "version": 3
   },
   "file_extension": ".py",
   "mimetype": "text/x-python",
   "name": "python",
   "nbconvert_exporter": "python",
   "pygments_lexer": "ipython3",
   "version": "3.7.4"
  }
 },
 "nbformat": 4,
 "nbformat_minor": 2
}
