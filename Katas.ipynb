{
 "cells": [
  {
   "cell_type": "code",
   "execution_count": 1,
   "metadata": {},
   "outputs": [],
   "source": [
    "import pandas as pd\n",
    "import numpy as np"
   ]
  },
  {
   "cell_type": "markdown",
   "metadata": {},
   "source": [
    "## Kata 1 <br>\n",
    "In this kata you will create a function that takes a list of non-negative integers and strings and returns a new list with the strings filtered out. <br>\n",
    "filter_list([1,2,'a','b']) == [1,2]"
   ]
  },
  {
   "cell_type": "code",
   "execution_count": 2,
   "metadata": {},
   "outputs": [
    {
     "data": {
      "text/plain": [
       "[1, 'a', 'b', 0, 15]"
      ]
     },
     "execution_count": 2,
     "metadata": {},
     "output_type": "execute_result"
    }
   ],
   "source": [
    "l = ([1,'a','b',0,15])\n",
    "l"
   ]
  },
  {
   "cell_type": "code",
   "execution_count": 3,
   "metadata": {},
   "outputs": [],
   "source": [
    "def filter_list(l):\n",
    "    empty_l = []\n",
    "    for e in l:\n",
    "        if type(e) == int:\n",
    "            empty_l.append(e)\n",
    "    return empty_l     "
   ]
  },
  {
   "cell_type": "code",
   "execution_count": 4,
   "metadata": {},
   "outputs": [
    {
     "data": {
      "text/plain": [
       "[1, 0, 15]"
      ]
     },
     "execution_count": 4,
     "metadata": {},
     "output_type": "execute_result"
    }
   ],
   "source": [
    "filter_list(l)"
   ]
  },
  {
   "cell_type": "code",
   "execution_count": 5,
   "metadata": {},
   "outputs": [],
   "source": [
    "def filter_list(l):\n",
    "    return [e for e in l if type(e)==int]"
   ]
  },
  {
   "cell_type": "code",
   "execution_count": 6,
   "metadata": {},
   "outputs": [
    {
     "data": {
      "text/plain": [
       "[1, 0, 15]"
      ]
     },
     "execution_count": 6,
     "metadata": {},
     "output_type": "execute_result"
    }
   ],
   "source": [
    "filter_list(l)"
   ]
  },
  {
   "cell_type": "markdown",
   "metadata": {},
   "source": [
    "## Lists of the lists"
   ]
  },
  {
   "cell_type": "code",
   "execution_count": 7,
   "metadata": {},
   "outputs": [],
   "source": [
    "l = ([\"AAAa\",'a','b',[\"bb\", \"RRT\"], \"erTTl\"])"
   ]
  },
  {
   "cell_type": "code",
   "execution_count": 8,
   "metadata": {},
   "outputs": [
    {
     "data": {
      "text/plain": [
       "['AAAa', 'a', 'b', ['bb', 'RRT'], 'erTTl']"
      ]
     },
     "execution_count": 8,
     "metadata": {},
     "output_type": "execute_result"
    }
   ],
   "source": [
    "l"
   ]
  },
  {
   "cell_type": "code",
   "execution_count": 9,
   "metadata": {},
   "outputs": [
    {
     "data": {
      "text/plain": [
       "['AAAa', 'a', 'b', 'bb', 'RRT', 'erTTl']"
      ]
     },
     "execution_count": 9,
     "metadata": {},
     "output_type": "execute_result"
    }
   ],
   "source": [
    "def funkce1(l):\n",
    "    empty_l = []\n",
    "    for e in l:\n",
    "        t = type(e)\n",
    "        if t is tuple or t is list:\n",
    "            for i in funkce1(e):\n",
    "                empty_l.append(i)\n",
    "        else:\n",
    "            empty_l.append(e)\n",
    "    return empty_l\n",
    "funkce1(l)"
   ]
  },
  {
   "cell_type": "markdown",
   "metadata": {},
   "source": [
    "## Kata 2 <br>\n",
    "Write a function that will return the count of distinct case-insensitive alphabetic characters and numeric digits that occur more than once in the input string. The input string can be assumed to contain only alphabets (both uppercase and lowercase) and numeric digits. <br>\n",
    "\"abcde\" -> 0 # no characters repeats more than once <br>\n",
    "\"aabBcde\" -> 2 # 'a' occurs twice and 'b' twice (`b` and `B`) <br>\n",
    "\"aA11\" -> 2 # 'a' and '1' <br>"
   ]
  },
  {
   "cell_type": "code",
   "execution_count": 10,
   "metadata": {},
   "outputs": [
    {
     "name": "stdout",
     "output_type": "stream",
     "text": [
      "aabBcde22\n"
     ]
    },
    {
     "data": {
      "text/plain": [
       "3"
      ]
     },
     "execution_count": 10,
     "metadata": {},
     "output_type": "execute_result"
    }
   ],
   "source": [
    "string = \"aabBcde22\" \n",
    "print(string)\n",
    "\n",
    "def duplicate_count(text):\n",
    "    all_freq = {}\n",
    "    number = 0\n",
    "    for i in text.lower():\n",
    "        if i in all_freq:\n",
    "            all_freq[i] += 1\n",
    "        else:\n",
    "            all_freq[i] = 1\n",
    "    for e in all_freq.values():\n",
    "        if e > 1:\n",
    "            number += 1\n",
    "    return number\n",
    "\n",
    "duplicate_count(string)"
   ]
  },
  {
   "cell_type": "code",
   "execution_count": 11,
   "metadata": {},
   "outputs": [
    {
     "data": {
      "text/plain": [
       "3"
      ]
     },
     "execution_count": 11,
     "metadata": {},
     "output_type": "execute_result"
    }
   ],
   "source": [
    "def duplicate_count(s):\n",
    "    return len([c for c in set(s.lower()) if s.lower().count(c)>1])\n",
    "duplicate_count(string)"
   ]
  },
  {
   "cell_type": "markdown",
   "metadata": {},
   "source": [
    "## Kata 3 <br>\n",
    "Your task is to write a function that takes a string and return a new string with all vowels removed.\n",
    "\n",
    "For example, the string \"This website is for losers LOL!\" would become \"Ths wbst s fr lsrs LL!\".\n",
    "Note: for this kata y isn't considered a vowel."
   ]
  },
  {
   "cell_type": "code",
   "execution_count": 12,
   "metadata": {},
   "outputs": [],
   "source": [
    "string_ = \"This website is for losers LOL!\""
   ]
  },
  {
   "cell_type": "code",
   "execution_count": 13,
   "metadata": {},
   "outputs": [],
   "source": [
    "vowels = ('a', 'e', 'i', 'o', 'u', 'A', 'E', 'I', 'O', 'U')\n",
    "def disemvowel(string_):\n",
    "    for e in string_:\n",
    "        if e in vowels:\n",
    "            string_ = string_.replace(e, \"\")\n",
    "    return string_   "
   ]
  },
  {
   "cell_type": "code",
   "execution_count": 14,
   "metadata": {},
   "outputs": [
    {
     "data": {
      "text/plain": [
       "'Ths wbst s fr lsrs LL!'"
      ]
     },
     "execution_count": 14,
     "metadata": {},
     "output_type": "execute_result"
    }
   ],
   "source": [
    "disemvowel(string_)"
   ]
  },
  {
   "cell_type": "markdown",
   "metadata": {},
   "source": [
    "The join() string method returns a string by joining all the elements of an iterable (list, string, tuple), separated by a string separator."
   ]
  },
  {
   "cell_type": "code",
   "execution_count": 15,
   "metadata": {},
   "outputs": [],
   "source": [
    "def disemvowel(string_):\n",
    "    return \"\".join(c for c in string_ if c.lower() not in \"aeiou\")"
   ]
  },
  {
   "cell_type": "code",
   "execution_count": 16,
   "metadata": {},
   "outputs": [
    {
     "data": {
      "text/plain": [
       "'Ths wbst s fr lsrs LL!'"
      ]
     },
     "execution_count": 16,
     "metadata": {},
     "output_type": "execute_result"
    }
   ],
   "source": [
    "disemvowel(string_)"
   ]
  },
  {
   "cell_type": "code",
   "execution_count": 17,
   "metadata": {},
   "outputs": [
    {
     "name": "stdout",
     "output_type": "stream",
     "text": [
      "Python is a fun programming language\n"
     ]
    }
   ],
   "source": [
    "text = ['Python', 'is', 'a', 'fun', 'programming', 'language']\n",
    "\n",
    "# join elements of text with space\n",
    "print(' '.join(text))"
   ]
  },
  {
   "cell_type": "markdown",
   "metadata": {},
   "source": [
    "## Kata 4 <br>\n",
    "Implement the function unique_in_order which takes as argument a sequence and returns a list of items without any elements with the same value next to each other and preserving the original order of elements.\n",
    "\n",
    "unique_in_order('AAAABBBCCDAABBB') == ['A', 'B', 'C', 'D', 'A', 'B']"
   ]
  },
  {
   "cell_type": "code",
   "execution_count": 18,
   "metadata": {},
   "outputs": [],
   "source": [
    "tuple_ = (1,2,'a','a','a',3,3,'b','b')"
   ]
  },
  {
   "cell_type": "code",
   "execution_count": 19,
   "metadata": {},
   "outputs": [],
   "source": [
    "def unique_in_order(iterable):\n",
    "    lst = [\"\"]\n",
    "    iterable = tuple(map(str, iterable))\n",
    "    for e in iterable:\n",
    "        if e not in lst[-1]:\n",
    "            lst.append(e)\n",
    "    lst = lst[1:]\n",
    "    return lst"
   ]
  },
  {
   "cell_type": "code",
   "execution_count": 20,
   "metadata": {},
   "outputs": [
    {
     "data": {
      "text/plain": [
       "['1', '2', 'a', '3', 'b']"
      ]
     },
     "execution_count": 20,
     "metadata": {},
     "output_type": "execute_result"
    }
   ],
   "source": [
    "unique_in_order(tuple_)"
   ]
  },
  {
   "cell_type": "markdown",
   "metadata": {},
   "source": [
    "## Kata 5 <br>\n",
    "\n",
    "Complete the function that accepts a string parameter, and reverses each word in the string. All spaces in the string should be retained.\n",
    "\n",
    "\"This is an example!\" ==> \"sihT si na !elpmaxe\" <br>\n",
    "\"double  spaces\"      ==> \"elbuod  secaps\" <br>\n",
    "\n",
    "Musejí tam být i více než jedna mezera, pokud se vyskytuje."
   ]
  },
  {
   "cell_type": "code",
   "execution_count": 21,
   "metadata": {},
   "outputs": [],
   "source": [
    "text = \"Hello      how are you\""
   ]
  },
  {
   "cell_type": "code",
   "execution_count": 22,
   "metadata": {},
   "outputs": [
    {
     "data": {
      "text/plain": [
       "'olleH      woh era uoy'"
      ]
     },
     "execution_count": 22,
     "metadata": {},
     "output_type": "execute_result"
    }
   ],
   "source": [
    "def reverse_words(text):\n",
    "    empty_lst = []\n",
    "    for e in text.split(\" \"):\n",
    "        empty_lst.append(e[::-1])\n",
    "    new_string = \" \".join(empty_lst)\n",
    "    return new_string\n",
    "\n",
    "reverse_words(text)"
   ]
  },
  {
   "cell_type": "code",
   "execution_count": 23,
   "metadata": {},
   "outputs": [
    {
     "data": {
      "text/plain": [
       "'olleH      woh era uoy'"
      ]
     },
     "execution_count": 23,
     "metadata": {},
     "output_type": "execute_result"
    }
   ],
   "source": [
    "def reverse_words(str):\n",
    "    return ' '.join(s[::-1] for s in str.split(' '))\n",
    "\n",
    "reverse_words(text)"
   ]
  },
  {
   "cell_type": "markdown",
   "metadata": {},
   "source": [
    "### Iterování nad seznamem"
   ]
  },
  {
   "cell_type": "code",
   "execution_count": 24,
   "metadata": {},
   "outputs": [
    {
     "name": "stdout",
     "output_type": "stream",
     "text": [
      "1 Hermiona\n",
      "2 Harry\n",
      "3 Ron\n",
      "4 Ronaldo\n",
      "5 Dumbldor\n",
      "6 Rihanna\n"
     ]
    }
   ],
   "source": [
    "students = [\"Hermiona\", \"Harry\", \"Ron\", \"Ronaldo\", \"Dumbldor\", \"Rihanna\"]\n",
    "\n",
    "for i in range(len(students)):\n",
    "    print(i + 1, students[i])"
   ]
  },
  {
   "cell_type": "markdown",
   "metadata": {},
   "source": [
    "## Kata 6 <br>\n",
    "Your task is to write a function maskify, which changes all but the last four characters into '#'.\n",
    "\n",
    "Examples\n",
    "\"4556364607935616\" --> \"############5616\"\n",
    "     \"64607935616\" -->      \"#######5616\"\n",
    "               \"1\" -->                \"1\"\n",
    "                \"\" -->                 \"\"\n",
    "\n",
    "// \"What was the name of your first pet?\"\n",
    "\n",
    "\"Skippy\" --> \"##ippy\"\n",
    "\n",
    "\"Nananananananananananananananana Batman!\"\n",
    "-->\n",
    "\"####################################man!\""
   ]
  },
  {
   "cell_type": "code",
   "execution_count": 25,
   "metadata": {},
   "outputs": [],
   "source": [
    "s = \"Nananananananananananananananana Batman!\""
   ]
  },
  {
   "cell_type": "code",
   "execution_count": 26,
   "metadata": {},
   "outputs": [
    {
     "data": {
      "text/plain": [
       "'####################################man!'"
      ]
     },
     "execution_count": 26,
     "metadata": {},
     "output_type": "execute_result"
    }
   ],
   "source": [
    "def maskify(s):\n",
    "    l = len(s)\n",
    "    if l <= 4: \n",
    "        return s\n",
    "    return (l - 4) * '#' + s[-4:]\n",
    "\n",
    "maskify(s)"
   ]
  },
  {
   "cell_type": "code",
   "execution_count": 27,
   "metadata": {},
   "outputs": [
    {
     "data": {
      "text/plain": [
       "'####################################man!'"
      ]
     },
     "execution_count": 27,
     "metadata": {},
     "output_type": "execute_result"
    }
   ],
   "source": [
    "def maskify(s):\n",
    "    return \"\".join(['#' for x in s[:-4]]) + s[-4:]\n",
    "\n",
    "maskify(s)"
   ]
  },
  {
   "cell_type": "markdown",
   "metadata": {},
   "source": [
    "## Kata 7\n",
    "\n",
    "Given a string of words, you need to find the highest scoring word.\n",
    "\n",
    "Each letter of a word scores points according to its position in the alphabet: a = 1, b = 2, c = 3 etc.\n",
    "\n",
    "You need to return the highest scoring word as a string.\n",
    "\n",
    "If two words score the same, return the word that appears earliest in the original string.\n",
    "\n",
    "All letters will be lowercase and all inputs will be valid."
   ]
  },
  {
   "cell_type": "code",
   "execution_count": 28,
   "metadata": {},
   "outputs": [],
   "source": [
    "import string\n",
    "\n",
    "def aplhabet():\n",
    "    \"\"\"Creates an alphabet with matching numbers\"\"\"\n",
    "    aplhabet = list(string.ascii_lowercase)\n",
    "    numbers = list(range(1,27))\n",
    "    aplhabet_with_numbers = dict(zip(aplhabet, numbers)) #spojí ty 2 proměnné a vytvoří z nich slovník\n",
    "    return aplhabet_with_numbers\n",
    "\n",
    "aplhabet_with_numbers = aplhabet()\n",
    "\n",
    "# aplhabet_with_numbers = dict(zip(string.ascii_lowercase, range(1, 27)))"
   ]
  },
  {
   "cell_type": "code",
   "execution_count": 29,
   "metadata": {},
   "outputs": [],
   "source": [
    "def word_value(input_word):\n",
    "    \"\"\"Scores word based on alphabet order of each letter\"\"\"\n",
    "    score = 0\n",
    "    for letter in input_word:\n",
    "        score += aplhabet_with_numbers[letter] #vezme dané písmeno, třeba \"h\" jako klíč a najde k němu hodnotu 8 a přičte\n",
    "    return score\n",
    "\n",
    "#def word_value(input_word):\n",
    "#    return sum(values[letter] for letter in input_word)"
   ]
  },
  {
   "cell_type": "code",
   "execution_count": 30,
   "metadata": {},
   "outputs": [
    {
     "data": {
      "text/plain": [
       "'string'"
      ]
     },
     "execution_count": 30,
     "metadata": {},
     "output_type": "execute_result"
    }
   ],
   "source": [
    "def high(x):\n",
    "    \"\"\"Finds the word with max score from given string of words\"\"\"\n",
    "    word_sequence = x.split()\n",
    "\n",
    "    word_values = []\n",
    "    for word in word_sequence:\n",
    "        word_values.append(word_value(word)) #vezme funckci word_value a aplikuje ji na každé slovo z toho řetezce\n",
    "\n",
    "    # word_values obsahuje [65, 18, 60, 60, 33, 67, 76, 60, 52, 56, 87]\n",
    "    \n",
    "    max_value = max(word_values) # 87\n",
    "    index_of_max = word_values.index(max_value) # 10\n",
    "\n",
    "    return word_sequence[index_of_max] # string\n",
    "\n",
    "high(\"show me word with the most highest score from this string\")\n",
    "\n",
    "#def get_highest(word_sequence):\n",
    "#    return max(word_sequence.split(), key=word_value)"
   ]
  },
  {
   "cell_type": "code",
   "execution_count": 31,
   "metadata": {},
   "outputs": [
    {
     "data": {
      "text/plain": [
       "'string'"
      ]
     },
     "execution_count": 31,
     "metadata": {},
     "output_type": "execute_result"
    }
   ],
   "source": [
    "import string\n",
    "values = dict(zip(string.ascii_lowercase, range(1, 27)))\n",
    "\n",
    "\n",
    "def get_value(word):\n",
    "    \"\"\"Return word letter score.\"\"\"\n",
    "    return sum(values[letter] for letter in word)\n",
    "\n",
    "\n",
    "def get_highest(word_sequence):\n",
    "    \"\"\"\n",
    "    Return word with the highest score assuming word_sequence a \n",
    "    string of words separated by space.\n",
    "    \"\"\"\n",
    "    return max(word_sequence.split(), key=get_value)\n",
    "\n",
    "get_highest(\"show me word with the most highest score from this string\")"
   ]
  },
  {
   "cell_type": "markdown",
   "metadata": {},
   "source": [
    "**Python ord()** function returns the Unicode code from a given character. This function accepts a string of unit length as an argument and returns the Unicode equivalence of the passed argument."
   ]
  },
  {
   "cell_type": "code",
   "execution_count": 32,
   "metadata": {},
   "outputs": [
    {
     "name": "stdout",
     "output_type": "stream",
     "text": [
      "104\n",
      "8\n"
     ]
    }
   ],
   "source": [
    "print(ord('h'))\n",
    "print(ord(\"h\") - ord('a') + 1)"
   ]
  },
  {
   "cell_type": "markdown",
   "metadata": {},
   "source": [
    "**Python index()** is an inbuilt function in Python, which searches for a given element from the start of the list and returns the index of the first occurrence. "
   ]
  },
  {
   "cell_type": "code",
   "execution_count": 33,
   "metadata": {},
   "outputs": [
    {
     "name": "stdout",
     "output_type": "stream",
     "text": [
      "2\n"
     ]
    }
   ],
   "source": [
    "# list of items\n",
    "list2 = ['cat', 'bat', 'mat', 'cat', 'pet']\n",
    " \n",
    "# Will print the index of 'mat' in list2\n",
    "print(list2.index('mat'))"
   ]
  },
  {
   "cell_type": "code",
   "execution_count": 34,
   "metadata": {},
   "outputs": [
    {
     "name": "stdout",
     "output_type": "stream",
     "text": [
      "10\n"
     ]
    }
   ],
   "source": [
    "x = \"show me word with the most highest score from this string\"\n",
    "word_values = [65, 18, 60, 60, 33, 67, 76, 60, 52, 56, 87]\n",
    "max_value = max(word_values)\n",
    "index_of_max = word_values.index(max_value)\n",
    "print(index_of_max)"
   ]
  },
  {
   "cell_type": "markdown",
   "metadata": {},
   "source": [
    "## Kata 8\n",
    "\n",
    "If we list all the natural numbers below 10 that are multiples of 3 or 5, we get 3, 5, 6 and 9. The sum of these multiples is 23.\n",
    "\n",
    "Finish the solution so that it returns the sum of all the multiples of 3 or 5 below the number passed in. Additionally, if the number is negative, return 0 (for languages that do have them).\n",
    "\n",
    "Note: If the number is a multiple of both 3 and 5, only count it once."
   ]
  },
  {
   "cell_type": "code",
   "execution_count": 35,
   "metadata": {},
   "outputs": [
    {
     "name": "stdout",
     "output_type": "stream",
     "text": [
      "14\n",
      "0\n"
     ]
    }
   ],
   "source": [
    "def solution(number):\n",
    "    result = 0\n",
    "    for e in range(number):\n",
    "        if e < 0:\n",
    "            result += 0\n",
    "        elif e % 3 == 0 or e % 5 == 0:\n",
    "            result += e\n",
    "    return result\n",
    "\n",
    "print(solution(8))\n",
    "print(solution(-8))"
   ]
  },
  {
   "cell_type": "code",
   "execution_count": 36,
   "metadata": {},
   "outputs": [],
   "source": [
    "def solution(number):\n",
    "    return sum([x for x in range(number) if x % 3 == 0 or x % 5 == 0])"
   ]
  },
  {
   "cell_type": "markdown",
   "metadata": {},
   "source": [
    "## Kata 9\n",
    "\n",
    "There are factories in an area which produce a pollutive gas and filters are to be installed at each factory to reduce the pollution. Each filter installed would half the pollution in that factory. Each factory can have multiple filters. There is a list of N integers representing the level of pollution in each of the N factories in the area. Find the minimum number of filters needed to half the overall pollution.\n",
    "\n",
    "E.g. - Let [3, 5, 6, 1, 18] be the list of pollution levels in 5 factories\n",
    "\n",
    "Overall pollution = 3+5+6+1+18 = 33 (target is 33/2 = 16.5)\n",
    "\n",
    "Install a filter in factory given by index=4 -- > pollution levels will be [3, 5, 6, 1, 9]\n",
    "\n",
    "Install a filter in factory given by index=4 -- > pollution levels will be [3, 5, 6, 1, 4.5]\n",
    "\n",
    "Install a filter in factory given by index=2 -- > pollution levels will be [3, 5, 3, 1, 4.5]\n",
    "\n",
    "Need 3 filters minimum to half the overall pollution.\n",
    "\n",
    "N is an integer within the range [1....30,000]. Each element in the list is an integer within the range [0....70,000]"
   ]
  },
  {
   "cell_type": "code",
   "execution_count": 37,
   "metadata": {},
   "outputs": [
    {
     "data": {
      "text/plain": [
       "3"
      ]
     },
     "execution_count": 37,
     "metadata": {},
     "output_type": "execute_result"
    }
   ],
   "source": [
    "def solution(A):\n",
    "    total_polution = sum(A)\n",
    "    half_polution = total_polution/2\n",
    "    n_filters = 0\n",
    "    while total_polution > half_polution:\n",
    "        A.sort(reverse=True)\n",
    "        max_factory = A[0]\n",
    "        total_polution -= max_factory/2\n",
    "        A.remove(max_factory)\n",
    "        A.insert(0, max_factory/2)\n",
    "        n_filters += 1\n",
    "    return n_filters\n",
    "\n",
    "A=[5,19,8,1]\n",
    "solution(A)"
   ]
  },
  {
   "cell_type": "markdown",
   "metadata": {},
   "source": [
    "## Kata 10\n",
    "\n",
    "You are given a string S consisting of letters 'a' and/or 'b'. A block is a consecutive fragment of S composed of the same letters and surrounded by different letters or string endings. For example, S = \"abbabbaaa\" has five blocks: \"a\", \"bb\", \"a\", \"bb\" and \"aaa\".\n",
    "\n",
    "What is the minimum number of additional letters needed to obtain a string\n",
    "\n",
    "containing blocks of equal lengths? Letters can be added only at the\n",
    "\n",
    "beginning or at the end of an existing block.\n",
    "\n",
    "Write a function:\n",
    "\n",
    "class Solution ( public int solution(String 5); }\n",
    "\n",
    "that, given a string S of length N, returns the minimum number of additional letters needed to obtain a string containing blocks of equal lengths.\n",
    "\n",
    "Examples:\n",
    "\n",
    "Given S=\"babaa\", the function should return 3. There are four blocks: \"b\", \"a\", \"b\", \"aa\". One letter each should be added to the first, second and third blocks, therefore obtaining a string \"bbaabbaa\", in which every block is of equal length.\n",
    "\n",
    "Given S=\"bbbab\", the function should return 4. Two letters each should be added to the second and third blocks, therefore obtaining a string \"bbbaaabbb\", in which every block is of equal length.\n",
    "\n",
    "Given S=\"bbbaaabbb\", the function should return 0. All blocks are already of equal lengths.\n",
    "\n",
    "Write an efficient algorithm for the following assumptions:\n",
    "\n",
    ". N is an integer within the range [1..40,000];\n",
    "\n",
    "• string S consists only of the characters \"a\" and/or \"b\"."
   ]
  },
  {
   "cell_type": "code",
   "execution_count": 38,
   "metadata": {},
   "outputs": [
    {
     "name": "stdout",
     "output_type": "stream",
     "text": [
      "5\n"
     ]
    }
   ],
   "source": [
    "def Substring(s):\n",
    " \n",
    "    ans, temp = 1, 1\n",
    " \n",
    "    # Traverse the string\n",
    "    for i in range(1, len(s)):\n",
    "         \n",
    "        # If character is same as\n",
    "        # previous increment temp value\n",
    "        if (s[i] == s[i - 1]):\n",
    "            temp += 1\n",
    "        else:\n",
    "            ans = max(ans, temp)\n",
    "            temp = 1\n",
    " \n",
    "    ans = max(ans, temp)\n",
    " \n",
    "    # Return the required answer\n",
    "    return ans\n",
    " \n",
    "# Driver code\n",
    "s = \"ababbbbbabaa\"\n",
    " \n",
    "# Function call\n",
    "print(Substring(s))"
   ]
  }
 ],
 "metadata": {
  "kernelspec": {
   "display_name": "Python 3",
   "language": "python",
   "name": "python3"
  },
  "language_info": {
   "codemirror_mode": {
    "name": "ipython",
    "version": 3
   },
   "file_extension": ".py",
   "mimetype": "text/x-python",
   "name": "python",
   "nbconvert_exporter": "python",
   "pygments_lexer": "ipython3",
   "version": "3.7.4"
  }
 },
 "nbformat": 4,
 "nbformat_minor": 2
}
